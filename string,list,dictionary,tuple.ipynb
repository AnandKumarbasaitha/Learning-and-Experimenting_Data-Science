{
 "cells": [
  {
   "cell_type": "markdown",
   "metadata": {},
   "source": [
    "# <font color=red>#String</font>"
   ]
  },
  {
   "cell_type": "code",
   "execution_count": 11,
   "metadata": {},
   "outputs": [
    {
     "name": "stdout",
     "output_type": "stream",
     "text": [
      "cream\n",
      "House #51 Village:Gilatala\n",
      "Nazirpur,Pirojpur\n",
      "Bangladesh\n",
      "House #51 Village:Gilatala\n",
      "Nazirpur,Pirojpur\n",
      "Bangladesh\n",
      "Phone:17471234\n"
     ]
    }
   ],
   "source": [
    "text='Ice cream'\n",
    "## text[0]='S' #String is immutable\n",
    "print(text[4:])\n",
    "address='''House #51 Village:Gilatala\n",
    "Nazirpur,Pirojpur\n",
    "Bangladesh'''\n",
    "print(address)\n",
    "phn_no=17471234\n",
    "##address+phn_no #need same type to concate\n",
    "print(address+\"\\nPhone:\"+str(phn_no))"
   ]
  },
  {
   "cell_type": "markdown",
   "metadata": {},
   "source": [
    "# <font color=red>#List</font>"
   ]
  },
  {
   "cell_type": "code",
   "execution_count": 21,
   "metadata": {},
   "outputs": [
    {
     "name": "stdout",
     "output_type": "stream",
     "text": [
      "fruits\n",
      "['bread', 'pasta', 'fruits', 'butter']\n",
      "['bread', 'butter', 'pasta', 'fruits']\n",
      "4\n"
     ]
    },
    {
     "data": {
      "text/plain": [
       "True"
      ]
     },
     "execution_count": 21,
     "metadata": {},
     "output_type": "execute_result"
    }
   ],
   "source": [
    "items=['bread','pasta','fruits']\n",
    "print(items[-1])\n",
    "items.append('butter')\n",
    "print(items)\n",
    "items.remove('butter')\n",
    "items.insert(1,'butter')\n",
    "print(items)\n",
    "print(len(items))\n",
    "'bread' in items"
   ]
  },
  {
   "cell_type": "markdown",
   "metadata": {},
   "source": [
    "# <font color=red>#Dictionary</font>"
   ]
  },
  {
   "cell_type": "code",
   "execution_count": 38,
   "metadata": {},
   "outputs": [
    {
     "name": "stdout",
     "output_type": "stream",
     "text": [
      "458443\n",
      "{'Tom': 458443, 'Jerry': 7946164, 'Shaon': 6431}\n",
      "Key: Tom Value: 458443\n",
      "Key: Jerry Value: 7946164\n",
      "Key: Tom Value: 458443\n",
      "Key: Jerry Value: 7946164\n"
     ]
    }
   ],
   "source": [
    "d={\"Tom\":458443,\"Jerry\":7946164}\n",
    "print(d[\"Tom\"])\n",
    "d['Shaon']=6431\n",
    "print(d)\n",
    "del d['Shaon']\n",
    "#Iterating\n",
    "for key in d:\n",
    "    print(\"Key:\",key,\"Value:\",d[key])\n",
    "for k,v in d.items():\n",
    "    print(\"Key:\",k,\"Value:\",v)\n",
    "'Tom' in d\n",
    "del d"
   ]
  },
  {
   "cell_type": "code",
   "execution_count": 41,
   "metadata": {},
   "outputs": [
    {
     "name": "stdout",
     "output_type": "stream",
     "text": [
      "('24 aveneu', 'Motijheel', 1214)\n"
     ]
    }
   ],
   "source": [
    "#Touple is a list of values group together \n",
    "#All values have several meaning\n",
    "point=(3,7) #x,y axis\n",
    "point[1]\n",
    "##point[1]=14 #Tuple object is immutable\n",
    "address=('24 aveneu','Motijheel',1214) #can store different types\n",
    "print(address)"
   ]
  },
  {
   "cell_type": "code",
   "execution_count": null,
   "metadata": {},
   "outputs": [],
   "source": []
  }
 ],
 "metadata": {
  "kernelspec": {
   "display_name": "Python 3",
   "language": "python",
   "name": "python3"
  },
  "language_info": {
   "codemirror_mode": {
    "name": "ipython",
    "version": 3
   },
   "file_extension": ".py",
   "mimetype": "text/x-python",
   "name": "python",
   "nbconvert_exporter": "python",
   "pygments_lexer": "ipython3",
   "version": "3.7.7"
  }
 },
 "nbformat": 4,
 "nbformat_minor": 4
}
