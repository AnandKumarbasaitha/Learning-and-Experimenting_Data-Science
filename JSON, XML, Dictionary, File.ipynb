{
 "cells": [
  {
   "cell_type": "markdown",
   "metadata": {},
   "source": [
    "# <font color=red> Dictionary to JSON </font>\n",
    "### Writing json format txt file"
   ]
  },
  {
   "cell_type": "code",
   "execution_count": 14,
   "metadata": {},
   "outputs": [
    {
     "name": "stdout",
     "output_type": "stream",
     "text": [
      "{'Tom': {'name': 'Tom', 'address': 'Dhaka', 'phone': 4384653}, 'Jerry': {'name': 'Jerry', 'address': 'Barisal', 'phone': 256463}}\n"
     ]
    }
   ],
   "source": [
    "book={}\n",
    "book['Tom']={\n",
    "    'name':'Tom',\n",
    "    'address':'Dhaka',\n",
    "    'phone': 4384653\n",
    "}\n",
    "book['Jerry']={\n",
    "    'name':'Jerry',\n",
    "    'address':'Barisal',\n",
    "    'phone': 256463\n",
    "}\n",
    "print(book)\n",
    "import json ##json is lightweight than xml\n",
    "with open(\"c://project//bookjson.txt\",\"w\") as f:\n",
    "    f.write(json.dumps(book))"
   ]
  },
  {
   "cell_type": "markdown",
   "metadata": {},
   "source": [
    "# <font color=red> JSON to Dictionary </font>\n",
    "### Reading json txt format"
   ]
  },
  {
   "cell_type": "code",
   "execution_count": 12,
   "metadata": {},
   "outputs": [
    {
     "name": "stdout",
     "output_type": "stream",
     "text": [
      "{\"Tom\": {\"name\": \"Tom\", \"address\": \"Dhaka\", \"phone\": 4384653}, \"Jerry\": {\"name\": \"Jerry\", \"address\": \"Barisal\", \"phone\": 256463}}\n",
      "<class 'str'>\n",
      "{'Tom': {'name': 'Tom', 'address': 'Dhaka', 'phone': 4384653}, 'Jerry': {'name': 'Jerry', 'address': 'Barisal', 'phone': 256463}}\n",
      "<class 'dict'>\n",
      "{'name': 'Tom', 'address': 'Dhaka', 'phone': 4384653}\n",
      "{'name': 'Jerry', 'address': 'Barisal', 'phone': 256463}\n"
     ]
    }
   ],
   "source": [
    "with open(\"c://project//bookjson.txt\",\"r\") as f:\n",
    "    s=f.read()\n",
    "print(s)\n",
    "book=json.loads(s)\n",
    "print(book)\n",
    "print(type(book))\n",
    "book['Jerry'] #Iteration and selecting items is easier in dictionary\n",
    "for person in book:\n",
    "    print(book[person])"
   ]
  },
  {
   "cell_type": "markdown",
   "metadata": {},
   "source": [
    "# <font color=red>Dictionary to XML </font>\n",
    "### Writing xml txt format"
   ]
  },
  {
   "cell_type": "code",
   "execution_count": 17,
   "metadata": {},
   "outputs": [
    {
     "name": "stdout",
     "output_type": "stream",
     "text": [
      "b'<?xml version=\"1.0\" encoding=\"UTF-8\" ?><root><Tom type=\"dict\"><name type=\"str\">Tom</name><address type=\"str\">Dhaka</address><phone type=\"int\">4384653</phone></Tom><Jerry type=\"dict\"><name type=\"str\">Jerry</name><address type=\"str\">Barisal</address><phone type=\"int\">256463</phone></Jerry></root>'\n"
     ]
    }
   ],
   "source": [
    "from dicttoxml import dicttoxml\n",
    "bookxml = dicttoxml(book)\n",
    "print(bookxml)\n",
    "with open(\"c://project//bookxml.txt\",\"w\") as f:\n",
    "    f.write(str(bookxml))"
   ]
  }
 ],
 "metadata": {
  "kernelspec": {
   "display_name": "Python 3",
   "language": "python",
   "name": "python3"
  },
  "language_info": {
   "codemirror_mode": {
    "name": "ipython",
    "version": 3
   },
   "file_extension": ".py",
   "mimetype": "text/x-python",
   "name": "python",
   "nbconvert_exporter": "python",
   "pygments_lexer": "ipython3",
   "version": "3.7.7"
  }
 },
 "nbformat": 4,
 "nbformat_minor": 4
}
